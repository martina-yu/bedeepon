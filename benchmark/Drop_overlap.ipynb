{
 "cells": [
  {
   "cell_type": "markdown",
   "id": "42e3c0e2-9ec1-479c-ad99-da98096de370",
   "metadata": {},
   "source": [
    "### Check Dataset ###\n",
    "Before training dataset, we need to make sure if all of the datas in testing dataset have no overlap with training dataset. If there is any overlap, we need to remove them from the concatenated training dataset to ensure there is no data leaking. \n",
    "\n",
    "```\n",
    "concatenated dataset\n",
    "    |----> test (arbab, song, marquart, zcd) dataset\n",
    "        |----> Yes\n",
    "            |----> check train dataset (arbab, song, marquart, zcd)\n",
    "        |----> No\n",
    "            |----> 0\n",
    "```\n",
    "\n",
    "****\n",
    "```\n",
    "Outcomes: ABE(256584)\n",
    "696  | test zcd ---- | 696 song train dataset\n",
    "0    | test marquart\n",
    "1063 | test song --- | 685 zcd train dataset | 378 song train dataset? | ---> 43 overlap in raw data\n",
    "0    | test arbab\n",
    "```\n",
    "****\n",
    "**Solution:**\n",
    "\n",
    "Remove those dupulcated sequences in training dataset. We must keep the balance in testing dataset."
   ]
  },
  {
   "cell_type": "markdown",
   "id": "f6fd122e-353b-4d8c-be73-db4b57e792bd",
   "metadata": {},
   "source": [
    "## Check for ABE"
   ]
  },
  {
   "cell_type": "markdown",
   "id": "5141af9f-c768-425e-b2d6-b381a75c5b5d",
   "metadata": {},
   "source": [
    "#### Testing --> total 19730 within edited, type: 3289"
   ]
  },
  {
   "cell_type": "markdown",
   "id": "fb2e6bda-1c5f-4ce0-bbff-df5aed3f1cc4",
   "metadata": {},
   "source": [
    "#### Training --> total: 147688 NOT within unedited, type: 29604"
   ]
  },
  {
   "cell_type": "markdown",
   "id": "8e0beb7e-4854-49fc-ac3e-cf67452d5af1",
   "metadata": {},
   "source": [
    "#### total: 177292 within unedited, type: 29604"
   ]
  },
  {
   "cell_type": "markdown",
   "id": "eae1dcab-98d7-4173-897d-a00d9c38d77f",
   "metadata": {},
   "source": [
    "## Check for CBE\n",
    "\n",
    "```\n",
    "concatenated dataset\n",
    "    |----> test (arbab, song, marquart, zcd) dataset\n",
    "        |----> Yes\n",
    "            |----> check train dataset (arbab, song, marquart, zcd)\n",
    "        |----> No\n",
    "            |----> 0\n",
    "```\n",
    "\n",
    "****\n",
    "```\n",
    "Outcomes: CBE(366877) --> after add unedited dataset CBE(383380)\n",
    "2328  | test zcd ---- | 2864 song train dataset\n",
    "0    | test marquart\n",
    "1078 | test song --- | 252 zcd train dataset | 1051 song train dataset? | ---> 43 overlap in raw data\n",
    "0    | test arbab\n",
    "```"
   ]
  },
  {
   "cell_type": "markdown",
   "id": "441f9724-85c2-467e-a5a1-692312c44ea4",
   "metadata": {},
   "source": [
    "#### Test Dataset(Total: 36020, type: 5363, within unedited)"
   ]
  },
  {
   "cell_type": "markdown",
   "id": "08207c64-6de1-4835-94b6-5b991c492579",
   "metadata": {},
   "source": [
    "#### Check if training datasets are enumerated"
   ]
  },
  {
   "cell_type": "markdown",
   "id": "889596ee-3b02-488c-81e9-1652b9f6d22a",
   "metadata": {},
   "source": [
    "#### (total: 274209 NOT within unedited, type: 48270) "
   ]
  },
  {
   "cell_type": "markdown",
   "id": "885125b8-2943-4636-96c5-58eb721c6fa8",
   "metadata": {},
   "source": [
    "#### Generate enumerated dataset with Training dataset within unedited (total: 322480, type: 48270)"
   ]
  },
  {
   "cell_type": "markdown",
   "id": "c65b3f3d-1362-4b33-8096-26804ad18d85",
   "metadata": {},
   "source": [
    "#### Total: 322480, type: 48270, within unedited"
   ]
  }
 ],
 "metadata": {
  "kernelspec": {
   "display_name": "tensor1.15.0",
   "language": "python",
   "name": "tensor1.15.0"
  },
  "language_info": {
   "codemirror_mode": {
    "name": "ipython",
    "version": 3
   },
   "file_extension": ".py",
   "mimetype": "text/x-python",
   "name": "python",
   "nbconvert_exporter": "python",
   "pygments_lexer": "ipython3",
   "version": "3.6.15"
  }
 },
 "nbformat": 4,
 "nbformat_minor": 5
}
