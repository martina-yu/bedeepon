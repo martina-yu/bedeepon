{
 "cells": [
  {
   "cell_type": "code",
   "execution_count": 12,
   "metadata": {},
   "outputs": [],
   "source": [
    "from sklearn.model_selection import train_test_split\n",
    "# !pip install pkbar\n",
    "import pkbar\n",
    "import torch\n",
    "import torch.nn as nn\n",
    "import torch.optim as optim\n",
    "\n",
    "import torch.nn.functional as F\n",
    "from tqdm import tqdm\n",
    "from torch.utils.data import Dataset, DataLoader,Sampler,BatchSampler,SubsetRandomSampler\n",
    "import torch.nn.utils.rnn as rnn_utils\n",
    "import matplotlib.pyplot as plt\n",
    "\n",
    "from pathlib import Path\n",
    "import numpy as np\n",
    "import pandas as pd\n",
    "\n",
    "import random\n",
    "import math\n",
    "import time\n",
    "import re\n",
    "from collections import defaultdict, Counter\n",
    "import pickle\n",
    "import gc\n",
    "import io\n",
    "\n",
    "# !pip install Bio\n",
    "# !pip install Bio.seq\n",
    "# from Bio.Seq import Seq \n",
    "# from Bio import pairwise2\n",
    "# from Bio.pairwise2 import format_alignment \n",
    "from multiprocessing import Pool\n",
    "import multiprocessing"
   ]
  },
  {
   "cell_type": "code",
   "execution_count": null,
   "metadata": {},
   "outputs": [],
   "source": []
  },
  {
   "cell_type": "code",
   "execution_count": 2,
   "metadata": {},
   "outputs": [
    {
     "name": "stdout",
     "output_type": "stream",
     "text": [
      "mps\n"
     ]
    }
   ],
   "source": [
    "device = (\n",
    "\t'cuda'\n",
    "\tif torch.cuda.is_available()\n",
    "\telse 'mps' \n",
    "\tif torch.backends.mps.is_available()\n",
    "\telse 'cpu')\n",
    "print(device)"
   ]
  },
  {
   "cell_type": "markdown",
   "metadata": {},
   "source": [
    "### 随机种子 ###"
   ]
  },
  {
   "cell_type": "code",
   "execution_count": 3,
   "metadata": {},
   "outputs": [],
   "source": [
    "use_cuda = torch.cuda.is_available()\n",
    "device = torch.device(\"cuda:0\" if use_cuda else \"cpu\")\n",
    "torch.backends.cudnn.benchmark = True\n",
    "torch.backends.cudnn.deterministic = True\n",
    "\n",
    "torch.set_printoptions(precision=6,sci_mode=False)\n",
    "pd.set_option('display.float_format',lambda x : '%.6f' % x)"
   ]
  },
  {
   "cell_type": "markdown",
   "metadata": {},
   "source": [
    "### 类的定义 ###"
   ]
  },
  {
   "cell_type": "code",
   "execution_count": 4,
   "metadata": {},
   "outputs": [],
   "source": [
    "class SubsetRandomSampler(Sampler):\n",
    "    def __init__(self, lst_inds):\n",
    "        self.lst_idx = lst_inds\n",
    "\n",
    "    def __iter__(self):\n",
    "        idx = [self.lst_idx[i] for i in torch.randperm(len(self.lst_idx))]\n",
    "        return iter(idx)\n",
    "\n",
    "    def __len__(self):\n",
    "        return len(self.indices)\n",
    "\n",
    "class BatchSampler(Sampler):\n",
    "    def __init__(self,gRNAs, grp):\n",
    "        lst_idx = []\n",
    "        for gRNA in gRNAs:\n",
    "            lst_idx.append(grp[gRNA].index.values)\n",
    "        sampler = SubsetRandomSampler(lst_idx)\n",
    "        self.sampler = sampler\n",
    "        self.batch_size = len(grp[gRNA])\n",
    "    def __iter__(self):\n",
    "        for idx in self.sampler:\n",
    "            self.batch_size = len(idx)\n",
    "            yield idx\n",
    "\n",
    "    def __len__(self):\n",
    "        return self.batch_size    # batch size就是每个batch的样本个数\n",
    "    \n",
    "    \n",
    "class gRNADataset(Dataset):\n",
    "    def __init__(self,datafrm):\n",
    "        self.df = datafrm.reset_index(drop=True)\n",
    "        self.df.columns = ['index','offset', 'y','eff','is_edit','wgt']\n",
    "        self.indexes = list(self.df['index'].values)\n",
    "        self.offsets = list(self.df['offset'].values)\n",
    "        self.y = list(self.df['y'].values)\n",
    "        self.eff = list(self.df['eff'].values)\n",
    "        self.is_edit = list(self.df['is_edit'].values)\n",
    "        self.wgt = list(self.df['wgt'].values)\n",
    "    def __len__(self):\n",
    "        return len(self.df)\n",
    "    \n",
    "    def __getitem__(self,idx):\n",
    "        indexes = self.indexes[idx]\n",
    "        offsets = self.offsets[idx]\n",
    "        y = self.y[idx]\n",
    "        eff = self.eff[idx]\n",
    "        is_edit = self.is_edit[idx]\n",
    "        wgt = self.wgt[idx]\n",
    "        return indexes, offsets, y, eff, is_edit, wgt\n",
    "    "
   ]
  },
  {
   "cell_type": "markdown",
   "metadata": {},
   "source": [
    "### 定义函数 ###"
   ]
  },
  {
   "cell_type": "code",
   "execution_count": 5,
   "metadata": {},
   "outputs": [],
   "source": [
    "SEED = 1234\n",
    "\n",
    "random.seed(SEED)\n",
    "np.random.seed(SEED)\n",
    "torch.manual_seed(SEED)\n",
    "torch.cuda.manual_seed(SEED)\n",
    "torch.backends.cudnn.deterministic = True\n",
    "\n",
    "stoi = {'<pad>':0, 'a':1, 'c':2, 'g':3, 't':4, '-':5, 'A':1, 'C':2, 'G':3, 'T':4,'B':5,'D':6}\n",
    "itos = {0: '<pad>', 1:'a',  2 :'c', 3:'g',0: 't', 1:'A',  2 :'C', 3:'G',4:'T',5:'B',6:'D'}\n",
    "\n",
    "def get_encoding(row, is_pred=False):\n",
    "    seq1 = row['gRNA']\n",
    "    seq2 = row['target']\n",
    "    is_edit = row['is_edit']\n",
    "    y = None\n",
    "    wgt = None\n",
    "    eff = row['efficiency']\n",
    "    if not is_pred:\n",
    "        y = row['efficiency'] # 未计算，输入值没有\n",
    "        wgt = row['count']\n",
    "    seq_idx = []\n",
    "    for i,(nuc1, nuc2) in enumerate(zip(seq1,seq2)):\n",
    "        seq_idx += [stoi[nuc1]] + [stoi[nuc2]]\n",
    "    offset = [i for i in range(0,len(seq_idx),2)] # range(start, stop, step)\n",
    "    r = (seq_idx, offset, y, eff, is_edit, wgt) if not is_pred else (seq_idx, offset, is_edit)\n",
    "    return r\n",
    "\n",
    "\n",
    "### ----- offtarget编码方式 ------- ###\n",
    "\n",
    "# def get_encoding(row, is_pred=False):\n",
    "#     '''Sequence encoding.'''\n",
    "#     gRNA = row['gRNA']\n",
    "#     target = row['target']\n",
    "#     aln = pairwise2.align.globalms(gRNA, target, 1, -1, -3, -2)\n",
    "#     src, _aln, tgt = format_alignment(*aln[0]).split('\\n')[:-2]\n",
    "#     encode_dict = {'<pad>':0, 'A': 1, 'C': 2, 'G':3, 'T': 4, '-': 5}\n",
    "#     seq1 = [encode_dict[nuc] for nuc in src]\n",
    "#     seq2 = [encode_dict[nuc] for nuc in tgt]\n",
    "#     is_edit = row['is_edit']\n",
    "#     y = None\n",
    "#     wgt = None\n",
    "#     eff = row['overall_efficiency']\n",
    "#     if not is_pred:\n",
    "#         y = row['proportion']\n",
    "#         wgt = row['count']\n",
    "#     r = (seq1, seq2, y, eff, is_edit, wgt) if not is_pred else (seq1, seq2, is_edit)\n",
    "#     return r\n",
    "\n",
    "def generate_batch(batch):\n",
    "    global debug_batch\n",
    "    indexes = []\n",
    "    offsets = []\n",
    "    ys = []\n",
    "    effs = []\n",
    "    seq_len = []\n",
    "    edit_status = []\n",
    "    wgts = []\n",
    "    old_max_ofs = 0\n",
    "    debug_batch = batch\n",
    "    for i,( idx, ofs, y, eff, is_edit, wgt ) in enumerate(batch):\n",
    "        indexes += idx\n",
    "        i = 1 if i > 0 else 0\n",
    "        offset = old_max_ofs + np.array(ofs) + i * 2 # 转换为从2开始，step为2的数组\n",
    "        old_max_ofs = offset[-1] # 最后一位数\n",
    "        offsets += list(offset)\n",
    "        ys.append(y)\n",
    "        effs.append(eff)\n",
    "        seq_len.append(len(ofs))\n",
    "        edit_status.append(is_edit)\n",
    "        wgts.append(wgt)\n",
    "        \n",
    "    a = indexes\n",
    "    b = offsets\n",
    "    c = ys #\n",
    "    d = effs\n",
    "    e = seq_len\n",
    "    f = edit_status.index(0.) #non_id\n",
    "    g = wgts\n",
    "    return a,b,c,d,e,[f],g"
   ]
  },
  {
   "cell_type": "markdown",
   "metadata": {},
   "source": [
    "### 定义模型 ###"
   ]
  },
  {
   "cell_type": "code",
   "execution_count": 6,
   "metadata": {},
   "outputs": [],
   "source": [
    "\n",
    "seq_len = 20\n",
    "class BiLSTM_Attention(nn.Module):\n",
    "    \n",
    "    def __init__(self, vocab_size, embedding_dim, hidden_dim, n_layers, dropout=0.5):\n",
    "        super(BiLSTM_Attention, self).__init__()\n",
    "        self.hidden_dim = hidden_dim\n",
    "        self.n_layers = n_layers\n",
    "        self.embedding = nn.EmbeddingBag(vocab_size, embedding_dim)\n",
    "        \n",
    "        '''    \n",
    "        \n",
    "        torch.nn.EmbeddingBag(num_embeddings, embedding_dim, max_norm=None, norm_type=2.0, scale_grad_by_freq=False, mode='mean', sparse=False, _weight=None, include_last_offset=False, padding_idx=None, device=None, dtype=None)\n",
    "        '''\n",
    "\n",
    "        self.rnn = nn.LSTM(input_size=embedding_dim, hidden_size=hidden_dim, num_layers=n_layers,\n",
    "                           bidirectional=True)\n",
    "        self.fc = nn.Linear(hidden_dim * 2, 1)\n",
    "        self.dropout = nn.Dropout(dropout)  \n",
    "\n",
    "    def attention_net(self, x, query, mask=None): \n",
    "        \n",
    "        d_k = query.size(-1)   \n",
    "        scores = torch.matmul(query, x.transpose(1, 2)) / math.sqrt(d_k)  \n",
    "        alpha_n = F.softmax(scores, dim=-1) \n",
    "        context = torch.matmul(alpha_n, x).sum(1)\n",
    "        \n",
    "        return context, alpha_n\n",
    "    \n",
    "    def forward(self, seq, offset, length):\n",
    "        global debug_var\n",
    "        batch_size = len(length)\n",
    "        emb = self.dropout(self.embedding(seq, offset))\n",
    "        emb_v = emb.view(batch_size,seq_len, -1)\n",
    "        emb_vt = emb_v.transpose(1,0)\n",
    "        out, (hidden, _) = self.rnn(emb_vt)\n",
    "        out = out.permute(1, 0, 2)  \n",
    "        query = self.dropout(out)\n",
    "        attn_output, alpha_n = self.attention_net(out, query)\n",
    "        \n",
    "        logit = F.leaky_relu(self.fc(attn_output))\n",
    "        \n",
    "        return logit"
   ]
  },
  {
   "cell_type": "markdown",
   "metadata": {},
   "source": [
    "初始化权重"
   ]
  },
  {
   "cell_type": "code",
   "execution_count": 7,
   "metadata": {},
   "outputs": [],
   "source": [
    "def init_weights(m):\n",
    "\n",
    "    for name, param in m.named_parameters():\n",
    "        if 'rnn.weight_' in name:\n",
    "            nn.init.orthogonal_(param.data)\n",
    "        if 'weight' in name:\n",
    "            nn.init.normal_(param.data, mean=0, std=0.01)\n",
    "        else:\n",
    "            nn.init.constant_(param.data, 0)"
   ]
  },
  {
   "cell_type": "markdown",
   "metadata": {},
   "source": [
    "超参数设置"
   ]
  },
  {
   "cell_type": "code",
   "execution_count": 8,
   "metadata": {},
   "outputs": [],
   "source": [
    "ENC_INPUT_DIM = 6\n",
    "ENC_EMB_DIM = 64 \n",
    "ENC_HID_DIM = 128\n",
    "\n",
    "'''\n",
    "embedding dimension: 64\n",
    "hidden dimension: 128\n",
    "'''\n",
    "\n",
    "\n",
    "N_LAYERS = 1\n",
    "ENC_DROPOUT = 0.5"
   ]
  },
  {
   "cell_type": "code",
   "execution_count": 9,
   "metadata": {},
   "outputs": [],
   "source": [
    "model = BiLSTM_Attention(ENC_INPUT_DIM, ENC_EMB_DIM, ENC_HID_DIM, N_LAYERS, ENC_DROPOUT).to(device)"
   ]
  },
  {
   "cell_type": "markdown",
   "metadata": {},
   "source": [
    "### 设置损失函数 ###"
   ]
  },
  {
   "cell_type": "code",
   "execution_count": 10,
   "metadata": {},
   "outputs": [],
   "source": [
    "criterion_prop = nn.KLDivLoss(reduction='none')\n",
    "criterion_mse = nn.MSELoss(reduction='none')\n",
    "\n",
    "N_EPOCHS = 250\n",
    "\n",
    "CLIP = 1\n",
    "\n",
    "optimizer = torch.optim.SGD(model.parameters(), lr=0.001, momentum=0.9)\n",
    "best_valid_loss = float('inf')"
   ]
  },
  {
   "cell_type": "markdown",
   "metadata": {},
   "source": [
    "### 训练模型 ###"
   ]
  },
  {
   "cell_type": "markdown",
   "metadata": {},
   "source": [
    "载入权重"
   ]
  },
  {
   "cell_type": "code",
   "execution_count": 11,
   "metadata": {},
   "outputs": [],
   "source": [
    "model.apply(init_weights)"
   ]
  },
  {
   "cell_type": "markdown",
   "metadata": {},
   "source": [
    "载入数据"
   ]
  },
  {
   "cell_type": "code",
   "execution_count": null,
   "metadata": {},
   "outputs": [],
   "source": [
    "df_info = pd.read_csv('./HEK293T_ABE.csv')\n",
    "df_info[df_info['all_count']>=100]\n",
    "df = df_info[['gRNA','target','count','efficiency']]\n",
    "df['is_edit'] = pd.Series(dtype=int)\n",
    "\n",
    "for i in range(len(df)):\n",
    "    if df['gRNA'][i] == df['target'][i]:\n",
    "        df.loc[i, 'is_edit'] = 0\n",
    "    else:\n",
    "        df.loc[i, 'is_edit'] = 1\n",
    "df['is_edit'] = df['is_edit'].astype(int)\n",
    "\n",
    "grouped = df.groupby('gRNA')\n",
    "new_rows = []\n",
    "\n",
    "for name, group in grouped:\n",
    "\n",
    "    if group['is_edit'].all():\n",
    "\n",
    "        new_row = {\n",
    "            'gRNA': group.iloc[0]['gRNA'],  \n",
    "            'target': group.iloc[0]['gRNA'], \n",
    "            'count': 0,\n",
    "            'efficiency': 0.0,\n",
    "            # 'proportion': 0.0,\n",
    "            'is_edit': 0\n",
    "        }\n",
    "        new_rows.append(new_row)\n",
    "\n",
    "df = pd.concat([pd.DataFrame(new_rows), df], ignore_index=True)\n",
    "\n",
    "df[['index','offset','y','eff','is_edit','wgt']] = df.apply( lambda x:pd.Series(get_encoding(x,is_pred=False)),axis=1)\n",
    "\n",
    "df = df[['gRNA','target','index','offset','y','eff','is_edit','wgt']]\n",
    "# print(df.head())\n",
    "\n",
    "grp_df = dict(list(df.groupby('gRNA')))\n",
    "df_dataset = gRNADataset(df[['index','offset','y','eff','is_edit','wgt']] )\n",
    "# df[df.is_edit == 0][['gRNA','eff']].to_pickle('test_10000.pkl')\n",
    "list_gRNA = df.gRNA.unique()\n",
    "\n",
    "train_data, test_data = train_test_split(list_gRNA, test_size=0.05, random_state=42)\n",
    "train_data, val_data = train_test_split(train_data, test_size=0.05, random_state=42)\n",
    "\n",
    "train_iter = DataLoader(df_dataset, batch_sampler=BatchSampler(train_data, grp_df), collate_fn = generate_batch)\n",
    "val_iter = DataLoader(df_dataset, batch_sampler=BatchSampler(val_data, grp_df), collate_fn=generate_batch)\n",
    "test_iter = DataLoader(df_dataset, batch_sampler=BatchSampler(test_data, grp_df), collate_fn=generate_batch)"
   ]
  },
  {
   "cell_type": "markdown",
   "metadata": {},
   "source": [
    "train and validate the model"
   ]
  },
  {
   "cell_type": "code",
   "execution_count": null,
   "metadata": {},
   "outputs": [],
   "source": [
    "all_losses = []\n",
    "val_all_losses =[]\n",
    "\n",
    "for epoch in range(N_EPOCHS):\n",
    "    \n",
    "    start_time = time.time()\n",
    "    \n",
    "    train_per_epoch = len(train_data)\n",
    "    kbar = pkbar.Kbar(target=train_per_epoch, epoch=epoch, num_epochs=N_EPOCHS, width=8, always_stateful=False)\n",
    "\n",
    "    \n",
    "    model.train()\n",
    "    epoch_loss = 0\n",
    "    for i, batch in enumerate(train_iter):\n",
    "        index = torch.LongTensor(batch[0]).to(device)\n",
    "        offset = torch.LongTensor(batch[1]).to(device)\n",
    "        y = torch.FloatTensor(batch[2]).to(device)\n",
    "        # eff = torch.FloatTensor(batch[3]).to(device)[0].view(-1)\n",
    "        length = torch.LongTensor(batch[4]).to(device)\n",
    "        non_id = torch.LongTensor(batch[5]).to(device)\n",
    "        wgt = torch.FloatTensor(batch[6]).to(device) + 1\n",
    "        y_sm = wgt/wgt.sum()\n",
    "\n",
    "        \n",
    "        optimizer.zero_grad()\n",
    "        outputs = model( index, offset, length )\n",
    "        outs = outputs.view(-1)\n",
    "        \n",
    "        y_hat_ls = F.log_softmax(outs,0)\n",
    "        loss_temp = criterion_prop( y_hat_ls, y_sm )\n",
    "        loss1 = torch.abs( loss_temp * wgt ).mean()\n",
    "        # print(loss1)\n",
    "\n",
    "        y_hat_sm = F.softmax(outs,0)\n",
    "        loss_temp =  criterion_mse( y_hat_sm, y )\n",
    "        loss2 = ( loss_temp * wgt ).mean()    \n",
    "        # print(loss2)    \n",
    "        loss3 = criterion_mse( 1 - y_hat_sm[non_id].view(-1), 1-y[non_id].view(-1) )*100        \n",
    "        loss = 3/6 * loss1 + 1/6 * loss2 + 2/6 * loss3       \n",
    "        # print(loss)\n",
    "        \n",
    "        loss.backward()\n",
    "        \n",
    "        torch.nn.utils.clip_grad_norm_(model.parameters(), CLIP)        \n",
    "        optimizer.step()\n",
    "        epoch_loss += loss.item()\n",
    "        mean_loss = epoch_loss / (i + 1)\n",
    "        kbar.update(i, values=[(\"loss\", epoch_loss / (i + 1)),(\"loss1\",loss1),(\"loss2\",loss2)])\n",
    "        \n",
    "    all_losses.append(mean_loss)\n",
    "          \n",
    "    model.eval()\n",
    "    epoch_loss = 0\n",
    "    \n",
    "    ### -------------- validation ------------ ##\n",
    "    with torch.no_grad():\n",
    "\n",
    "        for i, batch in enumerate(val_iter):\n",
    "\n",
    "            index = torch.LongTensor(batch[0]).to(device)\n",
    "            offset = torch.LongTensor(batch[1]).to(device)\n",
    "            # y = torch.FloatTensor(batch[2]).to(device)\n",
    "            # eff = torch.FloatTensor(batch[3]).to(device)\n",
    "            length = torch.LongTensor(batch[4]).to(device)\n",
    "            non_id = torch.LongTensor(batch[5]).to(device)\n",
    "            wgt = torch.FloatTensor(batch[6]).to(device) + 1\n",
    "            y_sm = wgt/wgt.sum()\n",
    "\n",
    "            optimizer.zero_grad()\n",
    "            outputs = model(index, offset, length)\n",
    "\n",
    "            outs = outputs.view(-1)\n",
    "            y_hat_ls = F.log_softmax(outs,0)\n",
    "            y_sm = (y.view(-1) + 1e-6)/(1 + 1e-6)\n",
    "            loss_temp = criterion_prop( y_hat_ls, y_sm )\n",
    "            loss1 = torch.abs(loss_temp).mean()*100\n",
    "\n",
    "            y_hat_sm = F.softmax(outs,0)\n",
    "            loss2 = (criterion_mse( y_hat_sm, y )).mean()*100\n",
    "            loss = (loss1 + loss2).mean()\n",
    "            epoch_loss += loss.item()\n",
    "        \n",
    "        valid_loss = epoch_loss / len( val_data )\n",
    "        val_all_losses.append(valid_loss)\n",
    "    print(f\"Epoch {epoch+1}/{N_EPOCHS}, Valid Loss: {valid_loss:.3f}\")       \n",
    "    kbar.add(1, values=[(\"val_loss\", valid_loss)])"
   ]
  },
  {
   "cell_type": "code",
   "execution_count": null,
   "metadata": {},
   "outputs": [],
   "source": [
    "import matplotlib.pyplot as plt\n",
    "plt.plot(all_losses)\n",
    "plt.show()"
   ]
  },
  {
   "cell_type": "code",
   "execution_count": null,
   "metadata": {},
   "outputs": [],
   "source": [
    "plt.plot(val_all_losses)\n",
    "plt.show()"
   ]
  },
  {
   "cell_type": "markdown",
   "metadata": {},
   "source": [
    "### **Test the model on test data** ###"
   ]
  },
  {
   "cell_type": "code",
   "execution_count": null,
   "metadata": {},
   "outputs": [],
   "source": [
    "model.eval()\n",
    "epoch_loss = 0\n",
    "with torch.no_grad(): \n",
    "    for i, batch in enumerate(test_iter):\n",
    "        seq1 = torch.LongTensor(batch[0]).to(device)\n",
    "        seq2 = torch.LongTensor(batch[1]).to(device)\n",
    "        # y = torch.FloatTensor(batch[2]).to(device)\n",
    "        # eff = torch.FloatTensor(batch[3]).to(device)\n",
    "        length = torch.LongTensor(batch[4]).to(device)\n",
    "        non_id = torch.LongTensor(batch[5]).to(device)\n",
    "        wgt = torch.FloatTensor(batch[6]).to(device) + 1\n",
    "        y_sm = wgt/wgt.sum()\n",
    "        \n",
    "        outputs = model(seq1, seq2, length)\n",
    "\n",
    "        outs = outputs.view(-1)\n",
    "        y_hat_ls = F.log_softmax(outs, 0)\n",
    "        y_sm = (y.view(-1) + 1e-6) / (1 + 1e-6)\n",
    "        loss_temp = criterion_prop(y_hat_ls, y_sm)\n",
    "        loss1 = torch.abs(loss_temp).mean() * 100\n",
    "\n",
    "        y_hat_sm = F.softmax(outs, 0)\n",
    "        loss2 = (criterion_mse(y_hat_sm, y)).mean() * 100\n",
    "        loss = (loss1 + loss2).mean()\n",
    "        epoch_loss += loss.item()\n",
    "\n",
    "    test_loss = epoch_loss / len(test_data)\n",
    "print(f\"Epoch {epoch+1}/{N_EPOCHS}, Test Loss: {test_loss:.3f}\")       \n",
    "kbar.add(1, values=[(\"val_loss\", test_loss)])"
   ]
  },
  {
   "cell_type": "code",
   "execution_count": null,
   "metadata": {},
   "outputs": [],
   "source": [
    "from sklearn.metrics import roc_curve, auc\n",
    "import matplotlib.pyplot as plt\n",
    "\n",
    "y_true_list = []\n",
    "y_score_list = []\n",
    "\n",
    "model.eval()\n",
    "with torch.no_grad():\n",
    "    for i, batch in enumerate(test_iter):\n",
    "        seq1 = torch.LongTensor(batch[0]).to(device)\n",
    "        seq2 = torch.LongTensor(batch[1]).to(device)\n",
    "        # y = torch.FloatTensor(batch[2]).to(device)\n",
    "        wgt = torch.FloatTensor(batch[6]).to(device) + 1\n",
    "        y_sm = wgt/wgt.sum()\n",
    "        length = torch.LongTensor(batch[4]).to(device)\n",
    "\n",
    "        outputs = model(seq1, seq2, length)\n",
    "\n",
    "        y_hat_sm = F.softmax(outputs, 1)\n",
    "        y_score_list.extend(y_hat_sm[:, 0].cpu().numpy()) \n",
    "        y_true_list.extend(y_sm.cpu().numpy())\n",
    "\n",
    "threshold = 0.5\n",
    "y_binary = np.where(np.array(y_true_list) > threshold, 1, 0)\n",
    "\n",
    "fpr, tpr, _ = roc_curve(y_binary, y_score_list)\n",
    "roc_auc = auc(fpr, tpr)\n",
    "\n",
    "plt.figure()\n",
    "plt.plot(fpr, tpr, color='darkorange', lw=2, label='ROC curve (area = %0.2f)' % roc_auc)\n",
    "plt.plot([0, 1], [0, 1], color='navy', lw=2, linestyle='--')\n",
    "plt.xlim([0.0, 1.0])\n",
    "plt.ylim([0.0, 1.05])\n",
    "plt.xlabel('False Positive Rate')\n",
    "plt.ylabel('True Positive Rate')\n",
    "plt.title('Receiver Operating Characteristic (ROC)')\n",
    "plt.legend(loc=\"lower right\")\n",
    "plt.show()"
   ]
  },
  {
   "cell_type": "code",
   "execution_count": 9,
   "metadata": {},
   "outputs": [],
   "source": [
    "a = [53.94195846769545, 56.44027533298068, 54.583650535089, 53.40881484935902, 53.728374311235214, 54.594259469597425, 53.0678776223218, 53.6191561088562, 53.156822456748394, 54.96110948513172, 53.094985407228826, 55.78290013807791, 53.350388247631216, 53.87698803188183, 52.96285012428849, 56.993566073664915, 51.366101814199375, 53.13543738676, 53.75795509507921, 55.72160844647443, 53.19379184729964, 53.610034371905854, 52.350338138085824, 54.388515055974324, 56.26947623182226, 53.595312319720236, 54.40584419536591, 53.6650943964499, 54.955643355616814, 54.0123763827218, 53.46340530084681]\n",
    "\n",
    "b = list(range(1,32))\n",
    "\n",
    "c =[24.401581976437072, 24.086247294944616, 24.07330168628276, 23.9648464688211, 23.910901358171852, 24.066727352996768, 24.10169506374793, 23.995325003995372, 23.971360235812917, 24.015223598621077, 24.041423812606187, 24.13841803199809, 24.0578319612302, 24.02343744838055, 24.054527770796717, 24.161044667855773, 24.045131112194245, 24.08523252924896, 24.099815267596647, 24.063983322725523, 24.059919394789862, 24.006143518391447, 24.082411417751633, 24.0740749502038, 24.025298213044884, 24.091821474210864, 24.203313676699796, 24.07343209221783, 24.050751346900668, 24.096575530691133, 24.18724471151376]"
   ]
  },
  {
   "cell_type": "code",
   "execution_count": 11,
   "metadata": {},
   "outputs": [
    {
     "data": {
      "image/png": "[encoded data removed]",
      "text/plain": [
       "<Figure size 640x480 with 1 Axes>"
      ]
     },
     "metadata": {},
     "output_type": "display_data"
    }
   ],
   "source": [
    "import matplotlib.pyplot as plt\n",
    "plt.plot(b,a)\n",
    "plt.xlabel('epoch')\n",
    "plt.ylabel('validation loss')\n",
    "plt.show()\n"
   ]
  },
  {
   "cell_type": "code",
   "execution_count": 10,
   "metadata": {},
   "outputs": [
    {
     "data": {
      "image/png": "[encoded data removed]",
      "text/plain": [
       "<Figure size 640x480 with 1 Axes>"
      ]
     },
     "metadata": {},
     "output_type": "display_data"
    }
   ],
   "source": [
    "plt.plot(b,c)\n",
    "plt.xlabel('epoch')\n",
    "plt.ylabel('training loss')\n",
    "plt.show()\n"
   ]
  },
  {
   "cell_type": "code",
   "execution_count": null,
   "metadata": {},
   "outputs": [],
   "source": [
    "All losses [23.04229225307657, 22.874528497133188, 23.730214337536072, 24.05045871914413, 23.967129894301742, 23.51214381459455, 23.6344966854437, 23.712117061935373, 23.556983431667252, 23.07039254537362, 23.40668521971578, 23.492791383521684, 23.770346900508613, 23.505502189818543, 23.69495936156304, 23.669771335803418]\n",
    "Validation loss, [19.5393004742263, 19.390232057700775, 20.89923863863853, 20.939614894831404, 20.371333895740182, 19.827776185242303, 24.171227759004612, 20.210788097376028, 19.675720256913014, 20.950820883642557, 20.117232680842367, 19.62156253234595, 22.05868365946405, 21.482145130853826, 20.437605842926224, 19.05534805108814]"
   ]
  },
  {
   "cell_type": "code",
   "execution_count": 3,
   "metadata": {},
   "outputs": [],
   "source": [
    "All_losses = [28.801609827941725, 24.214456956447922, 22.323259351150707, 21.744207441928566, 21.239932381141788, 20.233475291454077, 18.933991006222193, 17.781267414070573, 16.947224503378234, 15.92660414894089, 15.178722524250341, 14.493456974579965, 14.05313498761883, 13.571532266223684, 13.1999257329555, 12.76771449988831]\n",
    "Validation_loss = [20.140536699296263, 19.37286134221338, 19.211421359317374, 18.181508226039774, 17.211998629637492, 16.715532593516027, 15.031272754521146, 15.200302634985906, 15.648109705961808, 12.872348237373021, 12.580695843072352, 12.695984754432374, 11.667026729593564, 12.145845969067805, 11.349968859063958, 11.686688676321621]"
   ]
  },
  {
   "cell_type": "code",
   "execution_count": 1,
   "metadata": {},
   "outputs": [],
   "source": [
    "import matplotlib.pyplot as plt\n",
    "randint = list(range(0,16))"
   ]
  },
  {
   "cell_type": "code",
   "execution_count": 5,
   "metadata": {},
   "outputs": [
    {
     "data": {
      "image/png": "[encoded data removed]",
      "text/plain": [
       "<Figure size 640x480 with 1 Axes>"
      ]
     },
     "metadata": {},
     "output_type": "display_data"
    }
   ],
   "source": [
    "plt.plot(randint,All_losses)\n",
    "plt.xlabel('epoch in training data')\n",
    "plt.ylabel('all loss in training data')\n",
    "plt.show()"
   ]
  },
  {
   "cell_type": "code",
   "execution_count": 6,
   "metadata": {},
   "outputs": [
    {
     "data": {
      "image/png": "[encoded data removed]",
      "text/plain": [
       "<Figure size 640x480 with 1 Axes>"
      ]
     },
     "metadata": {},
     "output_type": "display_data"
    }
   ],
   "source": [
    "plt.plot(randint,Validation_loss)\n",
    "plt.xlabel('epoch in validation data')\n",
    "plt.ylabel('all loss in validation data')\n",
    "plt.show()"
   ]
  }
 ],
 "metadata": {
  "kernelspec": {
   "display_name": "Python 3",
   "language": "python",
   "name": "python3"
  },
  "language_info": {
   "codemirror_mode": {
    "name": "ipython",
    "version": 3
   },
   "file_extension": ".py",
   "mimetype": "text/x-python",
   "name": "python",
   "nbconvert_exporter": "python",
   "pygments_lexer": "ipython3",
   "version": "3.9.13"
  }
 },
 "nbformat": 4,
 "nbformat_minor": 2
}
