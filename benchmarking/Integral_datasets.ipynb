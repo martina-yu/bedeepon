{
 "cells": [
  {
   "cell_type": "code",
   "execution_count": 45,
   "id": "601f9c4e-8706-406d-b825-375a1a0d6c1e",
   "metadata": {},
   "outputs": [
    {
     "name": "stdout",
     "output_type": "stream",
     "text": [
      "(34116, 3) Index(['Reference', 'Outcomes', 'Count'], dtype='object') 20\n"
     ]
    }
   ],
   "source": [
    "name = 'song'\n",
    "print(song_BE.shape,song_BE.columns, len(song_BE.iloc[0,0]))"
   ]
  },
  {
   "cell_type": "code",
   "execution_count": 46,
   "id": "210341a0-deae-442c-b542-f5727fd1ca7e",
   "metadata": {},
   "outputs": [
    {
     "name": "stdout",
     "output_type": "stream",
     "text": [
      "(22165, 3) Index(['Reference', 'Outcomes', 'Count'], dtype='object')\n"
     ]
    }
   ],
   "source": [
    "name = 'marquart'\n",
    "print(marq_BE.shape,marq_BE.columns)"
   ]
  },
  {
   "cell_type": "code",
   "execution_count": 47,
   "id": "c1ccec82-6abd-4537-82eb-be7446d2da60",
   "metadata": {},
   "outputs": [
    {
     "name": "stdout",
     "output_type": "stream",
     "text": [
      "(177292, 3) Index(['Reference', 'Outcomes', 'Count'], dtype='object')\n"
     ]
    }
   ],
   "source": [
    "name = 'zcd'\n",
    "print(zcd_BE.shape,zcd_BE.columns)"
   ]
  },
  {
   "cell_type": "code",
   "execution_count": 48,
   "id": "c7f46b8f-9b78-43d7-9e50-db97424f341b",
   "metadata": {},
   "outputs": [
    {
     "name": "stdout",
     "output_type": "stream",
     "text": [
      "(52615, 3) Index(['Reference', 'Outcomes', 'Count'], dtype='object')\n"
     ]
    }
   ],
   "source": [
    "name = 'arbab'\n",
    "print(arbab_BE.shape,arbab_BE.columns)"
   ]
  },
  {
   "cell_type": "code",
   "execution_count": 49,
   "id": "e1b24e2c-de06-461f-81e7-9b0490fe93ac",
   "metadata": {},
   "outputs": [
    {
     "name": "stdout",
     "output_type": "stream",
     "text": [
      "(286188, 3) Index(['Reference', 'Outcomes', 'Count'], dtype='object')\n"
     ]
    }
   ],
   "source": [
    "model_BE_train = pd.concat([song_BE,marq_BE,zcd_BE, arbab_BE], ignore_index=True)\n",
    "# model_ABE_train =model_ABE_train[['Reference', 'Outcomes', 'Count']]\n",
    "print(model_BE_train.shape, model_ABE_train.columns)"
   ]
  },
  {
   "cell_type": "code",
   "execution_count": 66,
   "id": "81ff5d60-0f0e-43e1-8138-1877fbc281d2",
   "metadata": {},
   "outputs": [],
   "source": [
    "base = 'ABE'\n",
    "model_BE_train = pd.read_csv(f'{file_path}.csv')"
   ]
  },
  {
   "cell_type": "code",
   "execution_count": 67,
   "id": "5c860622-c198-4112-8031-86dcb8076b5a",
   "metadata": {},
   "outputs": [],
   "source": [
    "model_BE_train['Count'] = pd.to_numeric(model_BE_train['Count'], errors='coerce')\n",
    "model_BE_train = model_BE_train.to_csv(f'{file_path}.csv')"
   ]
  },
  {
   "cell_type": "code",
   "execution_count": 62,
   "id": "6e22c84a-5b5f-4698-bbcf-eac8b25f2b8a",
   "metadata": {},
   "outputs": [],
   "source": [
    "model_BE_train = model_BE_train.groupby('Reference').filter(lambda x: x['Count'].sum() > 0)"
   ]
  },
  {
   "cell_type": "code",
   "execution_count": 65,
   "id": "7032ea89-70ec-4582-9591-ae1775fa564c",
   "metadata": {},
   "outputs": [
    {
     "data": {
      "text/plain": [
       "Unnamed: 0      int64\n",
       "Reference      object\n",
       "Outcomes       object\n",
       "Count         float64\n",
       "dtype: object"
      ]
     },
     "execution_count": 65,
     "metadata": {},
     "output_type": "execute_result"
    }
   ],
   "source": [
    "model_BE_train.dtypes"
   ]
  },
  {
   "cell_type": "code",
   "execution_count": 20,
   "id": "a19eeaed-3374-4ade-9861-b787411cd856",
   "metadata": {},
   "outputs": [],
   "source": [
    "song_ABE_train = pd.read_csv(file_path + f'{name}_{base}_train_processed.csv', index_col = 0)\n",
    "song_ABE_train['Reference'] = song_ABE_train['Reference'].str[4:24]\n",
    "song_ABE_train['Outcomes'] = song_ABE_train['Outcomes'].str[4:24]\n",
    "\n",
    "song_CBE_train = pd.read_csv(file_path + 'song_HT_CBE_Train_processed.csv', index_col = 0)\n",
    "song_CBE_train['Reference'] = song_CBE_train['Reference'].str[4:24]\n",
    "song_CBE_train['Outcomes'] = song_CBE_train['Outcomes'].str[4:24]"
   ]
  },
  {
   "cell_type": "code",
   "execution_count": 23,
   "id": "0a99182a-108b-4024-80e9-9974b3c67a6a",
   "metadata": {},
   "outputs": [
    {
     "name": "stdout",
     "output_type": "stream",
     "text": [
      "song ABE train shape is: (34116, 3), marquart ABE shape is:(22165, 3), zcd ABE shape is:(147688, 3), arbab ABE shape is: (52615, 3)\n",
      "song CBE train shape is: (37057, 3), marquart CBE shape is:(27116, 3), zcd CBE shape is:(274209, 3), arbab CBE shape is: (50073, 3)\n"
     ]
    }
   ],
   "source": [
    "## before concatenation\n",
    "print(f'song ABE train shape is: {song_ABE_train.shape}, marquart ABE shape is:{marquart_ABE_train.shape}, zcd ABE shape is:{zcd_ABE_train.shape}, arbab ABE shape is: {arbab_ABE_train.shape}\\nsong CBE train shape is: {song_CBE_train.shape}, marquart CBE shape is:{marquart_CBE_train.shape}, zcd CBE shape is:{zcd_CBE_train.shape}, arbab CBE shape is: {arbab_CBE_train.shape}')"
   ]
  },
  {
   "cell_type": "code",
   "execution_count": 24,
   "id": "a41ebeaf-b6a3-4c38-82c3-890f6905dc4c",
   "metadata": {},
   "outputs": [
    {
     "name": "stdout",
     "output_type": "stream",
     "text": [
      "(256584, 3) (388455, 3)\n"
     ]
    }
   ],
   "source": [
    "model_ABE_train = pd.concat([song_ABE_train,zcd_ABE_train,marquart_ABE_train, arbab_ABE_train], ignore_index=True)\n",
    "model_CBE_train = pd.concat([song_CBE_train,zcd_CBE_train,marquart_CBE_train, arbab_CBE_train], ignore_index=True)\n",
    "print(model_ABE_train.shape, model_CBE_train.shape)"
   ]
  }
 ],
 "metadata": {
  "kernelspec": {
   "display_name": "bedeepon",
   "language": "python",
   "name": "bedeepon"
  },
  "language_info": {
   "codemirror_mode": {
    "name": "ipython",
    "version": 3
   },
   "file_extension": ".py",
   "mimetype": "text/x-python",
   "name": "python",
   "nbconvert_exporter": "python",
   "pygments_lexer": "ipython3",
   "version": "3.9.0"
  }
 },
 "nbformat": 4,
 "nbformat_minor": 5
}
